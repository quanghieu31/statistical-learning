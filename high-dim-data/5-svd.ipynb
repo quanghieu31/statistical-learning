{
 "cells": [
  {
   "cell_type": "code",
   "execution_count": 44,
   "metadata": {},
   "outputs": [],
   "source": [
    "import numpy as np\n",
    "import numpy.linalg as lga"
   ]
  },
  {
   "cell_type": "code",
   "execution_count": 45,
   "metadata": {},
   "outputs": [
    {
     "name": "stdout",
     "output_type": "stream",
     "text": [
      "X = [[0.69646919 0.28613933]\n",
      " [0.22685145 0.55131477]]\n",
      "\n",
      "U = [[-0.81167379 -0.58411101]\n",
      " [-0.58411101  0.81167379]]\n",
      "S = [0.89116166 0.35803002]\n",
      "Vt = [[-0.78303661 -0.62197561]\n",
      " [-0.62197561  0.78303661]]\n"
     ]
    },
    {
     "data": {
      "text/plain": [
       "array([[0.69646919, 0.28613933],\n",
       "       [0.22685145, 0.55131477]])"
      ]
     },
     "execution_count": 45,
     "metadata": {},
     "output_type": "execute_result"
    }
   ],
   "source": [
    "np.random.seed(123)\n",
    "\n",
    "X = np.random.rand(2,2) # square\n",
    "U, S, Vt = lga.svd(X)\n",
    "\n",
    "print(\"X =\", X)\n",
    "print()\n",
    "print(\"U =\", U)\n",
    "print(\"S =\", S)\n",
    "print(\"Vt =\", Vt)\n",
    "\n",
    "U @ np.diag(S) @ Vt"
   ]
  },
  {
   "cell_type": "code",
   "execution_count": 46,
   "metadata": {},
   "outputs": [
    {
     "name": "stdout",
     "output_type": "stream",
     "text": [
      "X = [[0.69646919 0.28613933 0.22685145]\n",
      " [0.55131477 0.71946897 0.42310646]\n",
      " [0.9807642  0.68482974 0.4809319 ]\n",
      " [0.39211752 0.34317802 0.72904971]\n",
      " [0.43857224 0.0596779  0.39804426]]\n",
      "\n",
      "U = [[-0.37099483 -0.3524962   0.458687   -0.4089603  -0.60038901]\n",
      " [-0.47878359 -0.10216236 -0.67484955 -0.51745759  0.19273001]\n",
      " [-0.63369125 -0.3546081   0.05432555  0.6575224   0.1933947 ]\n",
      " [-0.40169627  0.80203124 -0.08083369  0.16974873 -0.4000466 ]\n",
      " [-0.26496154  0.31033572  0.56982363 -0.32224024  0.63635633]]\n",
      "S = [2.01673733 0.47610086 0.38036897]\n",
      "Vt = [[-0.70290043 -0.51482284 -0.49080385]\n",
      " [-0.41801681 -0.25929838  0.87064705]\n",
      " [ 0.57549363 -0.81714246  0.03294366]]\n"
     ]
    }
   ],
   "source": [
    "np.random.seed(123)\n",
    "\n",
    "X = np.random.rand(5,3) # not square\n",
    "U, S, Vt = lga.svd(X) # inside already has square matrix X.T @ X\n",
    "\n",
    "print(\"X =\", X)\n",
    "print()\n",
    "print(\"U =\", U)\n",
    "print(\"S =\", S)\n",
    "print(\"Vt =\", Vt)\n",
    "\n",
    "# U @ np.diag(S) @ Vt"
   ]
  },
  {
   "cell_type": "code",
   "execution_count": 47,
   "metadata": {},
   "outputs": [
    {
     "data": {
      "text/plain": [
       "(array([ 4.06722945e+00,  2.26672027e-01,  1.44680551e-01, -9.65314453e-17,\n",
       "         5.73111536e-17]),\n",
       " array([[ 0.37099483,  0.3524962 ,  0.458687  ,  0.3157164 , -0.45530678],\n",
       "        [ 0.47878359,  0.10216236, -0.67484955,  0.54026259,  0.33504058],\n",
       "        [ 0.63369125,  0.3546081 ,  0.05432555, -0.62171071, -0.00642498],\n",
       "        [ 0.40169627, -0.80203124, -0.08083369, -0.22701975, -0.43213814],\n",
       "        [ 0.26496154, -0.31033572,  0.56982363,  0.41276787,  0.70260864]]))"
      ]
     },
     "execution_count": 47,
     "metadata": {},
     "output_type": "execute_result"
    }
   ],
   "source": [
    "eigenvalues_L, eigenvectors_L = lga.eig(np.matmul(X, X.T)) # to get square\n",
    "eigenvalues_L, eigenvectors_L "
   ]
  },
  {
   "cell_type": "markdown",
   "metadata": {},
   "source": [
    "the same results, with the caveat that some columns may differ by a factor of -1, and/or the order may be switched. This is normal, because flipping the direction of an eigenvector doesn’t change its physical significance nor anything about what it means to be an eigenvector. Also, eigenvectors obtained from np.linalg.eig may not be sorted by their eigenvalues, unlike that by np.linalg.svd."
   ]
  },
  {
   "cell_type": "code",
   "execution_count": 48,
   "metadata": {},
   "outputs": [
    {
     "name": "stdout",
     "output_type": "stream",
     "text": [
      "U:  [[-0.37099483 -0.3524962   0.458687   -0.4089603  -0.60038901]\n",
      " [-0.47878359 -0.10216236 -0.67484955 -0.51745759  0.19273001]\n",
      " [-0.63369125 -0.3546081   0.05432555  0.6575224   0.1933947 ]\n",
      " [-0.40169627  0.80203124 -0.08083369  0.16974873 -0.4000466 ]\n",
      " [-0.26496154  0.31033572  0.56982363 -0.32224024  0.63635633]]\n",
      "V:  [[-0.70290043 -0.41801681  0.57549363]\n",
      " [-0.51482284 -0.25929838 -0.81714246]\n",
      " [-0.49080385  0.87064705  0.03294366]]\n"
     ]
    },
    {
     "data": {
      "text/plain": [
       "array([-0.70427577,  1.        , -0.04031568])"
      ]
     },
     "execution_count": 48,
     "metadata": {},
     "output_type": "execute_result"
    }
   ],
   "source": [
    "print(\"U: \", U)\n",
    "print(\"V: \", Vt.T)\n",
    "\n",
    "vector = Vt[-1]\n",
    "vector/np.min(vector)"
   ]
  },
  {
   "cell_type": "code",
   "execution_count": 53,
   "metadata": {},
   "outputs": [
    {
     "data": {
      "text/plain": [
       "(array([[0.69646919, 0.28613933, 0.22685145],\n",
       "        [0.55131477, 0.71946897, 0.42310646],\n",
       "        [0.9807642 , 0.68482974, 0.4809319 ],\n",
       "        [0.39211752, 0.34317802, 0.72904971],\n",
       "        [0.43857224, 0.0596779 , 0.39804426]]),\n",
       " array([[0.52590949, 0.38519   , 0.36721901],\n",
       "        [0.67870712, 0.49710301, 0.47391074],\n",
       "        [0.89829889, 0.65793783, 0.62724183],\n",
       "        [0.56943079, 0.41706615, 0.39760799],\n",
       "        [0.37560034, 0.27509961, 0.26226488]]))"
      ]
     },
     "execution_count": 53,
     "metadata": {},
     "output_type": "execute_result"
    }
   ],
   "source": [
    "k = 1\n",
    "compressed_X = np.dot(U[:, :k], np.dot(np.diag(S[:k]), Vt[:k, :]))\n",
    "X, compressed_X\n",
    "\n",
    "# same dimension but smaller in data?"
   ]
  }
 ],
 "metadata": {
  "kernelspec": {
   "display_name": ".venv",
   "language": "python",
   "name": "python3"
  },
  "language_info": {
   "codemirror_mode": {
    "name": "ipython",
    "version": 3
   },
   "file_extension": ".py",
   "mimetype": "text/x-python",
   "name": "python",
   "nbconvert_exporter": "python",
   "pygments_lexer": "ipython3",
   "version": "3.11.4"
  }
 },
 "nbformat": 4,
 "nbformat_minor": 2
}
