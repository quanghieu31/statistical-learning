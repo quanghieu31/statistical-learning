{
 "cells": [
  {
   "cell_type": "markdown",
   "metadata": {},
   "source": [
    "How to handle interactions and combinations of weak variables, avoid multicollinearity but it could be wrong -> 2 redundant vars but each of them is, when combined with some other variables, powerful"
   ]
  }
 ],
 "metadata": {
  "language_info": {
   "name": "python"
  }
 },
 "nbformat": 4,
 "nbformat_minor": 2
}
