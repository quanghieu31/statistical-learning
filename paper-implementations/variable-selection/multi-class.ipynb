{
 "cells": [
  {
   "cell_type": "markdown",
   "metadata": {},
   "source": [
    "what happened if we have different multi classes? "
   ]
  }
 ],
 "metadata": {
  "language_info": {
   "name": "python"
  }
 },
 "nbformat": 4,
 "nbformat_minor": 2
}
