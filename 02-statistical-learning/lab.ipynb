{
 "cells": [
  {
   "cell_type": "markdown",
   "metadata": {},
   "source": [
    "### Generate random variables with `np.random.normal()`\n",
    "\n",
    "Params:\n",
    "- `loc` = mean (default=0)\n",
    "- `scale` = standard deviation (default=1)\n",
    "- `size` = how many independent random vars needed to be generated\n",
    "\n",
    "For example, generate 50 independent random variables from a $N(0,1)$ distribution or normal distribution"
   ]
  },
  {
   "cell_type": "code",
   "execution_count": 12,
   "metadata": {},
   "outputs": [
    {
     "name": "stdout",
     "output_type": "stream",
     "text": [
      "[-1.99150236  0.69762416 -0.27102121 -0.90581272  0.1835564  -0.06617832\n",
      " -0.21617329  1.65059703 -1.08980437 -0.42573562 -0.78200443  0.83751291\n",
      " -0.98150627  0.6444548  -0.38414509 -1.65642058  0.74376687 -1.61314793\n",
      "  0.68251613  0.75115694 -0.21737252  0.83263519 -0.55398245 -2.18303745\n",
      " -1.82865173 -0.05038227  1.08434034 -1.23072753 -0.1850681   2.20543426\n",
      "  1.25793654 -1.16935129  0.7140734  -1.3488482   1.17083403 -2.08807614\n",
      " -0.92251776  0.21198432 -1.14429687  0.5056571   0.57574805  2.27610307\n",
      " -1.46823769  0.96527529  0.03175913  0.67081715 -0.82026132  1.34492878\n",
      "  1.5568193   0.12428213]\n",
      "[21.01274548 20.81963161 22.23019247 18.65124147 19.34401467 20.19670565\n",
      " 20.38672426 19.84997868 20.88987816 18.90001467 20.21059729 19.63853938\n",
      " 18.83644711 18.41947464 19.71777428 19.24906751 18.56808876 21.31630741\n",
      " 19.75333136 19.19870907 19.87940941 19.9622213  20.34018735 20.46332763\n",
      " 18.31266616 20.8786198  20.9620069  18.41982197 18.85597522 20.53151398\n",
      " 18.49598447 18.39749772 20.1354042  20.35513537 19.38389116 18.6694632\n",
      " 20.46544422 18.94241828 21.49030186 20.48146474 20.48978008 20.80504066\n",
      " 19.34841493 19.78619619 18.73731287 20.06348481 18.69698534 19.61356282\n",
      " 19.89411468 21.61371159]\n"
     ]
    }
   ],
   "source": [
    "import numpy as np\n",
    "\n",
    "x = np.random.normal(size=50) # default\n",
    "print(x)\n",
    "\n",
    "x = np.random.normal(size=50, loc=20, scale=1) # N(20,1)\n",
    "print(x)"
   ]
  },
  {
   "cell_type": "code",
   "execution_count": 50,
   "metadata": {},
   "outputs": [
    {
     "name": "stdout",
     "output_type": "stream",
     "text": [
      "[[1.         0.43437264]\n",
      " [0.43437264 1.        ]]\n",
      "[[1.         0.93610232]\n",
      " [0.93610232 1.        ]]\n",
      "[[1.         0.32415103]\n",
      " [0.32415103 1.        ]]\n"
     ]
    }
   ],
   "source": [
    "x1 = x\n",
    "x2 = np.random.normal(size=50, loc=100, scale=2.5) # N(100, 2.5)\n",
    "x3 = np.random.normal(size=50, loc=47, scale=0.2) # N(47, 0.2)\n",
    "y = x1 + x2 + x3\n",
    "\n",
    "# correlation matrix\n",
    "print(np.corrcoef(x1,y))\n",
    "print(np.corrcoef(x2,y))\n",
    "print(np.corrcoef(x3,y))"
   ]
  },
  {
   "cell_type": "code",
   "execution_count": 58,
   "metadata": {},
   "outputs": [
    {
     "data": {
      "text/plain": [
       "(np.float64(166.22349852712796), np.float64(166.22349852712796))"
      ]
     },
     "execution_count": 58,
     "metadata": {},
     "output_type": "execute_result"
    }
   ],
   "source": [
    "# seed\n",
    "np.random.default_rng(3)\n",
    "\n",
    "np.mean(y), y.mean()"
   ]
  },
  {
   "cell_type": "code",
   "execution_count": 59,
   "metadata": {},
   "outputs": [
    {
     "data": {
      "text/plain": [
       "(np.float64(7.3857766960770865),\n",
       " np.float64(7.3857766960770865),\n",
       " np.float64(7.3857766960770865))"
      ]
     },
     "execution_count": 59,
     "metadata": {},
     "output_type": "execute_result"
    }
   ],
   "source": [
    "np.var(y), y.var(), np.mean((y - y.mean())**2)"
   ]
  }
 ],
 "metadata": {
  "kernelspec": {
   "display_name": "venv",
   "language": "python",
   "name": "python3"
  },
  "language_info": {
   "codemirror_mode": {
    "name": "ipython",
    "version": 3
   },
   "file_extension": ".py",
   "mimetype": "text/x-python",
   "name": "python",
   "nbconvert_exporter": "python",
   "pygments_lexer": "ipython3",
   "version": "3.11.4"
  }
 },
 "nbformat": 4,
 "nbformat_minor": 2
}
