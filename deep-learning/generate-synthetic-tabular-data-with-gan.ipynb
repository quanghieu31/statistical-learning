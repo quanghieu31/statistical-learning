{
 "cells": [
  {
   "cell_type": "code",
   "execution_count": 1,
   "id": "c5169864",
   "metadata": {
    "_cell_guid": "36225a6a-ee4c-44dc-9b3d-939fa0817b7f",
    "_uuid": "7da2aa94-b15d-474f-b334-636590af258f",
    "collapsed": false,
    "execution": {
     "iopub.execute_input": "2024-12-17T06:44:02.951254Z",
     "iopub.status.busy": "2024-12-17T06:44:02.950840Z",
     "iopub.status.idle": "2024-12-17T06:44:07.202219Z",
     "shell.execute_reply": "2024-12-17T06:44:07.200897Z"
    },
    "jupyter": {
     "outputs_hidden": false
    },
    "papermill": {
     "duration": 4.26054,
     "end_time": "2024-12-17T06:44:07.204825",
     "exception": false,
     "start_time": "2024-12-17T06:44:02.944285",
     "status": "completed"
    },
    "tags": []
   },
   "outputs": [],
   "source": [
    "import pandas as pd\n",
    "import numpy as np\n",
    "import matplotlib.pyplot as plt\n",
    "import random\n",
    "\n",
    "import torch\n",
    "import torch.nn as nn\n",
    "import torch.optim as optim"
   ]
  },
  {
   "cell_type": "code",
   "execution_count": 2,
   "id": "a75bc1a3",
   "metadata": {
    "_cell_guid": "e7d0a65b-c47f-4ddf-8df2-a78e06366f12",
    "_uuid": "3f427b3f-d4af-44c1-8a5c-5b81185fb454",
    "collapsed": false,
    "execution": {
     "iopub.execute_input": "2024-12-17T06:44:07.215928Z",
     "iopub.status.busy": "2024-12-17T06:44:07.215384Z",
     "iopub.status.idle": "2024-12-17T06:44:07.520228Z",
     "shell.execute_reply": "2024-12-17T06:44:07.519000Z"
    },
    "jupyter": {
     "outputs_hidden": false
    },
    "papermill": {
     "duration": 0.313094,
     "end_time": "2024-12-17T06:44:07.522754",
     "exception": false,
     "start_time": "2024-12-17T06:44:07.209660",
     "status": "completed"
    },
    "tags": []
   },
   "outputs": [
    {
     "data": {
      "text/plain": [
       "tensor([[  6.0000, 148.0000,  72.0000,  ...,   0.6270,  50.0000,   1.0000],\n",
       "        [  1.0000,  85.0000,  66.0000,  ...,   0.3510,  31.0000,   0.0000],\n",
       "        [  8.0000, 183.0000,  64.0000,  ...,   0.6720,  32.0000,   1.0000],\n",
       "        ...,\n",
       "        [  5.0000, 121.0000,  72.0000,  ...,   0.2450,  30.0000,   0.0000],\n",
       "        [  1.0000, 126.0000,  60.0000,  ...,   0.3490,  47.0000,   1.0000],\n",
       "        [  1.0000,  93.0000,  70.0000,  ...,   0.3150,  23.0000,   0.0000]])"
      ]
     },
     "execution_count": 2,
     "metadata": {},
     "output_type": "execute_result"
    }
   ],
   "source": [
    "data = pd.read_csv(\"/kaggle/input/pima-indians-diabetes-database/diabetes.csv\")\n",
    "data_tensor = torch.tensor(data.values, dtype=torch.float32)\n",
    "data_tensor"
   ]
  },
  {
   "cell_type": "markdown",
   "id": "a38112b8",
   "metadata": {
    "papermill": {
     "duration": 0.003839,
     "end_time": "2024-12-17T06:44:07.530894",
     "exception": false,
     "start_time": "2024-12-17T06:44:07.527055",
     "status": "completed"
    },
    "tags": []
   },
   "source": [
    "## GAN\r\n",
    "\r\n",
    "Recall the GAN objective\r\n",
    "$$\\min_\\psi \\max_\\phi \\,\\ \\mathbb E_{x \\sim Pop}[ -\\ln P_\\psi(1 | x) ] + \\mathbb E_{z \\sim \\mathcal N(0,1)} [- \\ln P_\\psi(0|G_\\phi(z))  ] \\,,$$\r\n",
    "where $G_\\phi$ is a network that maps gaussian noise $z \\sim \\mathcal N(0,1)$ to $G(z)$ with the same shape as $x$, and $P_\\psi$ is modeled by another network (the discriminator) that maps real samples $x$ and 'fake' samples $G(z)$ to a distribution over $\\{0,1\\}$.\r\n",
    "\r\n",
    "We will follow the common practice of adopting a different objective for the generator network $G$:\r\n",
    "$$\\min_\\phi \\,\\ \\mathbb E_{z \\sim \\mathcal N(0,1)} [- \\ln P_\\psi(1|G_\\phi (z) )] $$ng $G$."
   ]
  },
  {
   "cell_type": "code",
   "execution_count": 3,
   "id": "94555dda",
   "metadata": {
    "_cell_guid": "00d95fdc-00b4-4ccb-89a8-c434021fe823",
    "_uuid": "432d1350-482d-4e7b-b043-2d6b716fb1f8",
    "collapsed": false,
    "execution": {
     "iopub.execute_input": "2024-12-17T06:44:07.541139Z",
     "iopub.status.busy": "2024-12-17T06:44:07.540640Z",
     "iopub.status.idle": "2024-12-17T06:44:07.552383Z",
     "shell.execute_reply": "2024-12-17T06:44:07.551183Z"
    },
    "jupyter": {
     "outputs_hidden": false
    },
    "papermill": {
     "duration": 0.01999,
     "end_time": "2024-12-17T06:44:07.555125",
     "exception": false,
     "start_time": "2024-12-17T06:44:07.535135",
     "status": "completed"
    },
    "tags": []
   },
   "outputs": [],
   "source": [
    "seed = 0\n",
    "torch.manual_seed(seed)\n",
    "random.seed(seed)\n",
    "np.random.seed(seed)\n",
    "\n",
    "LATENT_DIM = 10\n",
    "MAX_EPOCHS = 10000\n",
    "BATCH_SIZE = 64"
   ]
  },
  {
   "cell_type": "code",
   "execution_count": 4,
   "id": "fbbce58e",
   "metadata": {
    "_cell_guid": "78d4ce75-78bb-4102-8571-9dd53e71a1e2",
    "_uuid": "a4606de6-29db-42ab-be45-df7694588deb",
    "collapsed": false,
    "execution": {
     "iopub.execute_input": "2024-12-17T06:44:07.565243Z",
     "iopub.status.busy": "2024-12-17T06:44:07.564776Z",
     "iopub.status.idle": "2024-12-17T06:44:07.576841Z",
     "shell.execute_reply": "2024-12-17T06:44:07.575509Z"
    },
    "jupyter": {
     "outputs_hidden": false
    },
    "papermill": {
     "duration": 0.02037,
     "end_time": "2024-12-17T06:44:07.579723",
     "exception": false,
     "start_time": "2024-12-17T06:44:07.559353",
     "status": "completed"
    },
    "tags": []
   },
   "outputs": [],
   "source": [
    "# define latent space\n",
    "def create_latent_space(latent_dim=LATENT_DIM, batch_size=BATCH_SIZE):\n",
    "    latent = torch.randn(batch_size, latent_dim) # already reshaped (n x latet_dim)\n",
    "    return latent # batch x 9\n",
    "\n",
    "\n",
    "# define generator\n",
    "class Generator(nn.Module):\n",
    "    def __init__(self, input_dim=LATENT_DIM, output_dim=9): # 9 features\n",
    "        super().__init__()\n",
    "        self.model = nn.Sequential(\n",
    "            nn.Linear(input_dim, 15),\n",
    "            nn.ReLU(),\n",
    "            nn.Linear(15, 30),\n",
    "            nn.ReLU(),\n",
    "            nn.Linear(30, output_dim)\n",
    "        )\n",
    "    def forward(self, n_samples):\n",
    "        latent_space = create_latent_space(latent_dim=LATENT_DIM, batch_size=n_samples)\n",
    "        samples = self.model(latent_space)\n",
    "        return samples\n",
    "\n",
    "\n",
    "# define generated and real samples\n",
    "def get_generated_samples(generator, batch_size=BATCH_SIZE):\n",
    "    generated_samples = generator(batch_size)\n",
    "    labels_for_generated_samples = torch.zeros(generated_samples.shape[0], 1)\n",
    "    return generated_samples, labels_for_generated_samples\n",
    "def get_real_samples(data, batch_size=BATCH_SIZE):\n",
    "    samples = data.sample(batch_size, replace=True)\n",
    "    real_samples = torch.tensor(samples.values, dtype=torch.float32)\n",
    "    labels_for_real_samples = torch.ones(batch_size, 1)\n",
    "    return real_samples, labels_for_real_samples\n",
    "\n",
    "\n",
    "# define discriminator\n",
    "class Discriminator(nn.Module): \n",
    "    def __init__(self, input_dim=9, output_dim=1): # output=1 => fake or real\n",
    "        super().__init__()\n",
    "        self.model = nn.Sequential(\n",
    "            nn.Linear(input_dim, 25),\n",
    "            nn.ReLU(),\n",
    "            nn.Linear(25, 50),\n",
    "            nn.ReLU(),\n",
    "            nn.Linear(50, output_dim),\n",
    "            nn.Sigmoid() # probs between 0 and 1\n",
    "        )\n",
    "    def forward(self, x):\n",
    "        return self.model(x)"
   ]
  },
  {
   "cell_type": "code",
   "execution_count": 5,
   "id": "30242bbe",
   "metadata": {
    "_cell_guid": "39bebf04-b81d-431b-92ea-b5ce8b0f5b7c",
    "_uuid": "f23f4c9f-3efa-412e-b117-45a06ffea346",
    "collapsed": false,
    "execution": {
     "iopub.execute_input": "2024-12-17T06:44:07.591092Z",
     "iopub.status.busy": "2024-12-17T06:44:07.590702Z",
     "iopub.status.idle": "2024-12-17T06:44:09.325172Z",
     "shell.execute_reply": "2024-12-17T06:44:09.323887Z"
    },
    "jupyter": {
     "outputs_hidden": false
    },
    "papermill": {
     "duration": 1.742629,
     "end_time": "2024-12-17T06:44:09.327909",
     "exception": false,
     "start_time": "2024-12-17T06:44:07.585280",
     "status": "completed"
    },
    "tags": []
   },
   "outputs": [],
   "source": [
    "# get the generator and discriminator\n",
    "generator = Generator() \n",
    "discriminator = Discriminator()\n",
    "\n",
    "# define binary cross entropy loss (since this is real or fake classification)\n",
    "gen_opt = torch.optim.Adam(generator.parameters(), lr=0.0001, betas=(0.5, 0.999))\n",
    "dis_opt = torch.optim.Adam(discriminator.parameters(), lr=0.00005, betas=(0.5, 0.999))\n",
    "criterion = torch.nn.BCEWithLogitsLoss()\n",
    "# criterion = torch.nn.BCELoss()"
   ]
  },
  {
   "cell_type": "code",
   "execution_count": 6,
   "id": "8292abc3",
   "metadata": {
    "_cell_guid": "f6bd26a3-149f-4343-ac0d-1b580723bb2b",
    "_uuid": "fdee063c-a6ef-4e5d-af62-c900b178fec9",
    "collapsed": false,
    "execution": {
     "iopub.execute_input": "2024-12-17T06:44:09.338693Z",
     "iopub.status.busy": "2024-12-17T06:44:09.338127Z",
     "iopub.status.idle": "2024-12-17T06:44:54.317700Z",
     "shell.execute_reply": "2024-12-17T06:44:54.316291Z"
    },
    "jupyter": {
     "outputs_hidden": false
    },
    "papermill": {
     "duration": 44.987607,
     "end_time": "2024-12-17T06:44:54.320133",
     "exception": false,
     "start_time": "2024-12-17T06:44:09.332526",
     "status": "completed"
    },
    "tags": []
   },
   "outputs": [
    {
     "name": "stdout",
     "output_type": "stream",
     "text": [
      "\n",
      "iteration 0\n",
      "generator loss = 0.473, discriminator loss = 0.821\n",
      "\n",
      "iteration 1000\n",
      "generator loss = 0.402, discriminator loss = 0.710\n",
      "\n",
      "iteration 2000\n",
      "generator loss = 0.402, discriminator loss = 0.710\n",
      "\n",
      "iteration 3000\n",
      "generator loss = 0.402, discriminator loss = 0.710\n",
      "\n",
      "iteration 4000\n",
      "generator loss = 0.389, discriminator loss = 0.724\n",
      "\n",
      "iteration 5000\n",
      "generator loss = 0.386, discriminator loss = 0.729\n",
      "\n",
      "iteration 6000\n",
      "generator loss = 0.385, discriminator loss = 0.731\n",
      "\n",
      "iteration 7000\n",
      "generator loss = 0.356, discriminator loss = 0.763\n",
      "\n",
      "iteration 8000\n",
      "generator loss = 0.361, discriminator loss = 0.760\n",
      "\n",
      "iteration 9000\n",
      "generator loss = 0.379, discriminator loss = 0.741\n",
      "CPU times: user 1min 29s, sys: 158 ms, total: 1min 29s\n",
      "Wall time: 45 s\n"
     ]
    }
   ],
   "source": [
    "%%time\n",
    "\n",
    "for epoch in range(MAX_EPOCHS):\n",
    "    \n",
    "    generated_samples, generated_labels = get_generated_samples(generator, batch_size=BATCH_SIZE)\n",
    "    real_samples, real_labels = get_real_samples(data, batch_size=BATCH_SIZE)\n",
    "\n",
    "    # reset gradients\n",
    "    gen_opt.zero_grad()\n",
    "    dis_opt.zero_grad()\n",
    "\n",
    "    # Train G\n",
    "    # logit raw scores predicted (higher=real, lower=generated)\n",
    "    # this means, if higher, discriminator sees that generated~real\n",
    "    pred_generated = discriminator(generated_samples)\n",
    "    # we want the discriminator to classify the generated samples as real (trick the discriminator).\n",
    "    gen_loss = criterion(pred_generated, real_labels)\n",
    "    # backprop weights and gradients of generator\n",
    "    gen_loss.backward()\n",
    "    gen_opt.step()\n",
    "\n",
    "    # Train D \n",
    "    # goal: want real samples => labeled 1 AND generated_samples => labeled 0\n",
    "    # train the discrimninator on the real samples\n",
    "    pred_real = discriminator(real_samples)\n",
    "    dis_loss_real = criterion(pred_real, real_labels)\n",
    "    # now train D on the generated samples\n",
    "    # only passing the actual values of those samples, and not any gradient\n",
    "    # information from the generator to the discriminator\n",
    "    # (independent from each other)\n",
    "    pred_generated = discriminator(generated_samples.detach())\n",
    "    dis_loss_generated = criterion(pred_generated, generated_labels)\n",
    "\n",
    "    # backprop\n",
    "    dis_loss = (dis_loss_real + dis_loss_generated) / 2\n",
    "    dis_loss.backward()\n",
    "    dis_opt.step()\n",
    "\n",
    "    if epoch % 1000 == 0:\n",
    "        print(f\"\\niteration {epoch}\")\n",
    "        print(f'generator loss = {gen_loss.item():.3f}, discriminator loss = {dis_loss.item():.3f}')"
   ]
  },
  {
   "cell_type": "code",
   "execution_count": null,
   "id": "809174b9",
   "metadata": {
    "_cell_guid": "e262ee68-6cff-4523-a301-7ff8f97997a5",
    "_uuid": "d6427b97-57d0-44bf-9a0e-c91016571d3e",
    "collapsed": false,
    "jupyter": {
     "outputs_hidden": false
    },
    "papermill": {
     "duration": 0.004486,
     "end_time": "2024-12-17T06:44:54.329469",
     "exception": false,
     "start_time": "2024-12-17T06:44:54.324983",
     "status": "completed"
    },
    "tags": []
   },
   "outputs": [],
   "source": []
  },
  {
   "cell_type": "code",
   "execution_count": 7,
   "id": "6e38dbdd",
   "metadata": {
    "_cell_guid": "7efe32de-879c-4887-83fb-43568f920309",
    "_uuid": "bffee439-8190-4b83-8c9d-bd27fd92267f",
    "collapsed": false,
    "execution": {
     "iopub.execute_input": "2024-12-17T06:44:54.340794Z",
     "iopub.status.busy": "2024-12-17T06:44:54.340374Z",
     "iopub.status.idle": "2024-12-17T06:44:54.371318Z",
     "shell.execute_reply": "2024-12-17T06:44:54.370158Z"
    },
    "jupyter": {
     "outputs_hidden": false
    },
    "papermill": {
     "duration": 0.039662,
     "end_time": "2024-12-17T06:44:54.373880",
     "exception": false,
     "start_time": "2024-12-17T06:44:54.334218",
     "status": "completed"
    },
    "tags": []
   },
   "outputs": [
    {
     "data": {
      "text/html": [
       "<div>\n",
       "<style scoped>\n",
       "    .dataframe tbody tr th:only-of-type {\n",
       "        vertical-align: middle;\n",
       "    }\n",
       "\n",
       "    .dataframe tbody tr th {\n",
       "        vertical-align: top;\n",
       "    }\n",
       "\n",
       "    .dataframe thead th {\n",
       "        text-align: right;\n",
       "    }\n",
       "</style>\n",
       "<table border=\"1\" class=\"dataframe\">\n",
       "  <thead>\n",
       "    <tr style=\"text-align: right;\">\n",
       "      <th></th>\n",
       "      <th>Pregnancies</th>\n",
       "      <th>Glucose</th>\n",
       "      <th>BloodPressure</th>\n",
       "      <th>SkinThickness</th>\n",
       "      <th>Insulin</th>\n",
       "      <th>BMI</th>\n",
       "      <th>DiabetesPedigreeFunction</th>\n",
       "      <th>Age</th>\n",
       "      <th>Outcome</th>\n",
       "    </tr>\n",
       "  </thead>\n",
       "  <tbody>\n",
       "    <tr>\n",
       "      <th>0</th>\n",
       "      <td>2.778385</td>\n",
       "      <td>124.370720</td>\n",
       "      <td>50.418991</td>\n",
       "      <td>23.068401</td>\n",
       "      <td>-0.521704</td>\n",
       "      <td>32.774773</td>\n",
       "      <td>-9.208471</td>\n",
       "      <td>39.540447</td>\n",
       "      <td>0</td>\n",
       "    </tr>\n",
       "    <tr>\n",
       "      <th>1</th>\n",
       "      <td>2.972859</td>\n",
       "      <td>136.036026</td>\n",
       "      <td>71.732605</td>\n",
       "      <td>32.107246</td>\n",
       "      <td>-1.007810</td>\n",
       "      <td>41.827599</td>\n",
       "      <td>-12.613653</td>\n",
       "      <td>44.087685</td>\n",
       "      <td>0</td>\n",
       "    </tr>\n",
       "    <tr>\n",
       "      <th>2</th>\n",
       "      <td>2.888418</td>\n",
       "      <td>100.156136</td>\n",
       "      <td>99.960388</td>\n",
       "      <td>44.587700</td>\n",
       "      <td>-4.726610</td>\n",
       "      <td>51.609230</td>\n",
       "      <td>-19.200035</td>\n",
       "      <td>40.799862</td>\n",
       "      <td>1</td>\n",
       "    </tr>\n",
       "    <tr>\n",
       "      <th>3</th>\n",
       "      <td>3.838099</td>\n",
       "      <td>116.195923</td>\n",
       "      <td>118.590347</td>\n",
       "      <td>53.922832</td>\n",
       "      <td>-5.077444</td>\n",
       "      <td>60.689579</td>\n",
       "      <td>-22.286690</td>\n",
       "      <td>48.179085</td>\n",
       "      <td>1</td>\n",
       "    </tr>\n",
       "    <tr>\n",
       "      <th>4</th>\n",
       "      <td>3.878526</td>\n",
       "      <td>108.524384</td>\n",
       "      <td>101.526047</td>\n",
       "      <td>45.766506</td>\n",
       "      <td>-3.524993</td>\n",
       "      <td>52.327671</td>\n",
       "      <td>-18.401426</td>\n",
       "      <td>42.892467</td>\n",
       "      <td>0</td>\n",
       "    </tr>\n",
       "    <tr>\n",
       "      <th>...</th>\n",
       "      <td>...</td>\n",
       "      <td>...</td>\n",
       "      <td>...</td>\n",
       "      <td>...</td>\n",
       "      <td>...</td>\n",
       "      <td>...</td>\n",
       "      <td>...</td>\n",
       "      <td>...</td>\n",
       "      <td>...</td>\n",
       "    </tr>\n",
       "    <tr>\n",
       "      <th>95</th>\n",
       "      <td>1.891182</td>\n",
       "      <td>91.348785</td>\n",
       "      <td>52.812572</td>\n",
       "      <td>24.798412</td>\n",
       "      <td>-3.143342</td>\n",
       "      <td>30.751760</td>\n",
       "      <td>-9.936153</td>\n",
       "      <td>32.101547</td>\n",
       "      <td>1</td>\n",
       "    </tr>\n",
       "    <tr>\n",
       "      <th>96</th>\n",
       "      <td>2.109382</td>\n",
       "      <td>85.802658</td>\n",
       "      <td>80.014572</td>\n",
       "      <td>37.787346</td>\n",
       "      <td>-5.157355</td>\n",
       "      <td>42.505005</td>\n",
       "      <td>-15.137621</td>\n",
       "      <td>35.837944</td>\n",
       "      <td>1</td>\n",
       "    </tr>\n",
       "    <tr>\n",
       "      <th>97</th>\n",
       "      <td>4.847567</td>\n",
       "      <td>254.151688</td>\n",
       "      <td>90.468102</td>\n",
       "      <td>42.215977</td>\n",
       "      <td>0.842429</td>\n",
       "      <td>58.608524</td>\n",
       "      <td>-14.597937</td>\n",
       "      <td>73.629684</td>\n",
       "      <td>0</td>\n",
       "    </tr>\n",
       "    <tr>\n",
       "      <th>98</th>\n",
       "      <td>3.640663</td>\n",
       "      <td>152.315125</td>\n",
       "      <td>156.229889</td>\n",
       "      <td>69.110641</td>\n",
       "      <td>-8.119746</td>\n",
       "      <td>79.391403</td>\n",
       "      <td>-30.202440</td>\n",
       "      <td>61.988037</td>\n",
       "      <td>0</td>\n",
       "    </tr>\n",
       "    <tr>\n",
       "      <th>99</th>\n",
       "      <td>3.120904</td>\n",
       "      <td>113.058601</td>\n",
       "      <td>125.307640</td>\n",
       "      <td>57.210354</td>\n",
       "      <td>-6.449018</td>\n",
       "      <td>63.366356</td>\n",
       "      <td>-24.169748</td>\n",
       "      <td>48.698303</td>\n",
       "      <td>1</td>\n",
       "    </tr>\n",
       "  </tbody>\n",
       "</table>\n",
       "<p>100 rows × 9 columns</p>\n",
       "</div>"
      ],
      "text/plain": [
       "    Pregnancies     Glucose  BloodPressure  SkinThickness   Insulin  \\\n",
       "0      2.778385  124.370720      50.418991      23.068401 -0.521704   \n",
       "1      2.972859  136.036026      71.732605      32.107246 -1.007810   \n",
       "2      2.888418  100.156136      99.960388      44.587700 -4.726610   \n",
       "3      3.838099  116.195923     118.590347      53.922832 -5.077444   \n",
       "4      3.878526  108.524384     101.526047      45.766506 -3.524993   \n",
       "..          ...         ...            ...            ...       ...   \n",
       "95     1.891182   91.348785      52.812572      24.798412 -3.143342   \n",
       "96     2.109382   85.802658      80.014572      37.787346 -5.157355   \n",
       "97     4.847567  254.151688      90.468102      42.215977  0.842429   \n",
       "98     3.640663  152.315125     156.229889      69.110641 -8.119746   \n",
       "99     3.120904  113.058601     125.307640      57.210354 -6.449018   \n",
       "\n",
       "          BMI  DiabetesPedigreeFunction        Age  Outcome  \n",
       "0   32.774773                 -9.208471  39.540447        0  \n",
       "1   41.827599                -12.613653  44.087685        0  \n",
       "2   51.609230                -19.200035  40.799862        1  \n",
       "3   60.689579                -22.286690  48.179085        1  \n",
       "4   52.327671                -18.401426  42.892467        0  \n",
       "..        ...                       ...        ...      ...  \n",
       "95  30.751760                 -9.936153  32.101547        1  \n",
       "96  42.505005                -15.137621  35.837944        1  \n",
       "97  58.608524                -14.597937  73.629684        0  \n",
       "98  79.391403                -30.202440  61.988037        0  \n",
       "99  63.366356                -24.169748  48.698303        1  \n",
       "\n",
       "[100 rows x 9 columns]"
      ]
     },
     "execution_count": 7,
     "metadata": {},
     "output_type": "execute_result"
    }
   ],
   "source": [
    "generated_samples = generator(100)\n",
    "generated_samples_np = generated_samples.detach().numpy()\n",
    "df_generated_samples = pd.DataFrame(generated_samples_np, columns=data.columns)\n",
    "\n",
    "df_generated_samples['Outcome'] = df_generated_samples['Outcome'] > df_generated_samples.Outcome.mean()\n",
    "df_generated_samples[\"Outcome\"] = df_generated_samples[\"Outcome\"].astype(int)\n",
    "\n",
    "df_generated_samples"
   ]
  },
  {
   "cell_type": "code",
   "execution_count": 8,
   "id": "80ed7792",
   "metadata": {
    "execution": {
     "iopub.execute_input": "2024-12-17T06:44:54.387196Z",
     "iopub.status.busy": "2024-12-17T06:44:54.386790Z",
     "iopub.status.idle": "2024-12-17T06:44:54.400164Z",
     "shell.execute_reply": "2024-12-17T06:44:54.398917Z"
    },
    "papermill": {
     "duration": 0.023811,
     "end_time": "2024-12-17T06:44:54.402860",
     "exception": false,
     "start_time": "2024-12-17T06:44:54.379049",
     "status": "completed"
    },
    "tags": []
   },
   "outputs": [
    {
     "data": {
      "text/plain": [
       "0     0\n",
       "36    0\n",
       "37    0\n",
       "38    0\n",
       "41    0\n",
       "     ..\n",
       "16    1\n",
       "65    1\n",
       "68    1\n",
       "71    1\n",
       "99    1\n",
       "Name: Outcome, Length: 100, dtype: int64"
      ]
     },
     "execution_count": 8,
     "metadata": {},
     "output_type": "execute_result"
    }
   ],
   "source": [
    "df_generated_samples[\"Outcome\"].sort_values()"
   ]
  },
  {
   "cell_type": "code",
   "execution_count": 9,
   "id": "14d42845",
   "metadata": {
    "execution": {
     "iopub.execute_input": "2024-12-17T06:44:54.417332Z",
     "iopub.status.busy": "2024-12-17T06:44:54.416904Z",
     "iopub.status.idle": "2024-12-17T06:44:54.430764Z",
     "shell.execute_reply": "2024-12-17T06:44:54.429498Z"
    },
    "papermill": {
     "duration": 0.024658,
     "end_time": "2024-12-17T06:44:54.433057",
     "exception": false,
     "start_time": "2024-12-17T06:44:54.408399",
     "status": "completed"
    },
    "tags": []
   },
   "outputs": [
    {
     "data": {
      "text/plain": [
       "Outcome\n",
       "0    53\n",
       "1    47\n",
       "Name: count, dtype: int64"
      ]
     },
     "execution_count": 9,
     "metadata": {},
     "output_type": "execute_result"
    }
   ],
   "source": [
    "df_generated_samples[\"Outcome\"].value_counts()"
   ]
  },
  {
   "cell_type": "code",
   "execution_count": 10,
   "id": "fb7bd2a2",
   "metadata": {
    "_cell_guid": "85173b47-ea1f-49d8-98c4-c8fca3ff617d",
    "_uuid": "26b1e52d-9b0c-414a-ba5c-c55a2620e619",
    "collapsed": false,
    "execution": {
     "iopub.execute_input": "2024-12-17T06:44:54.445706Z",
     "iopub.status.busy": "2024-12-17T06:44:54.445266Z",
     "iopub.status.idle": "2024-12-17T06:44:54.454174Z",
     "shell.execute_reply": "2024-12-17T06:44:54.452778Z"
    },
    "jupyter": {
     "outputs_hidden": false
    },
    "papermill": {
     "duration": 0.017957,
     "end_time": "2024-12-17T06:44:54.456427",
     "exception": false,
     "start_time": "2024-12-17T06:44:54.438470",
     "status": "completed"
    },
    "tags": []
   },
   "outputs": [
    {
     "data": {
      "text/plain": [
       "Outcome\n",
       "0    500\n",
       "1    268\n",
       "Name: count, dtype: int64"
      ]
     },
     "execution_count": 10,
     "metadata": {},
     "output_type": "execute_result"
    }
   ],
   "source": [
    "data[\"Outcome\"].value_counts()"
   ]
  },
  {
   "cell_type": "code",
   "execution_count": null,
   "id": "eaeb146c",
   "metadata": {
    "_cell_guid": "02b659dc-9f17-46c2-b230-9cf7ef62d7e4",
    "_uuid": "356040af-3bb6-498f-b62f-921669587120",
    "collapsed": false,
    "jupyter": {
     "outputs_hidden": false
    },
    "papermill": {
     "duration": 0.004912,
     "end_time": "2024-12-17T06:44:54.466761",
     "exception": false,
     "start_time": "2024-12-17T06:44:54.461849",
     "status": "completed"
    },
    "tags": []
   },
   "outputs": [],
   "source": []
  },
  {
   "cell_type": "markdown",
   "id": "f7ce1583",
   "metadata": {
    "papermill": {
     "duration": 0.004916,
     "end_time": "2024-12-17T06:44:54.476897",
     "exception": false,
     "start_time": "2024-12-17T06:44:54.471981",
     "status": "completed"
    },
    "tags": []
   },
   "source": [
    "Imbalanced data, differently distributed variables => https://arxiv.org/abs/1907.00503"
   ]
  },
  {
   "cell_type": "code",
   "execution_count": null,
   "id": "2cbb8578",
   "metadata": {
    "_cell_guid": "0fa2f11c-b18e-4f82-9e0d-3a641924b48f",
    "_uuid": "e9905e8e-ea11-4061-8dfb-91963c057bb8",
    "collapsed": false,
    "jupyter": {
     "outputs_hidden": false
    },
    "papermill": {
     "duration": 0.004835,
     "end_time": "2024-12-17T06:44:54.486952",
     "exception": false,
     "start_time": "2024-12-17T06:44:54.482117",
     "status": "completed"
    },
    "tags": []
   },
   "outputs": [],
   "source": []
  }
 ],
 "metadata": {
  "kaggle": {
   "accelerator": "none",
   "dataSources": [
    {
     "datasetId": 228,
     "sourceId": 482,
     "sourceType": "datasetVersion"
    }
   ],
   "dockerImageVersionId": 30804,
   "isGpuEnabled": false,
   "isInternetEnabled": true,
   "language": "python",
   "sourceType": "notebook"
  },
  "kernelspec": {
   "display_name": "Python 3",
   "language": "python",
   "name": "python3"
  },
  "language_info": {
   "codemirror_mode": {
    "name": "ipython",
    "version": 3
   },
   "file_extension": ".py",
   "mimetype": "text/x-python",
   "name": "python",
   "nbconvert_exporter": "python",
   "pygments_lexer": "ipython3",
   "version": "3.10.14"
  },
  "papermill": {
   "default_parameters": {},
   "duration": 55.830664,
   "end_time": "2024-12-17T06:44:55.718240",
   "environment_variables": {},
   "exception": null,
   "input_path": "__notebook__.ipynb",
   "output_path": "__notebook__.ipynb",
   "parameters": {},
   "start_time": "2024-12-17T06:43:59.887576",
   "version": "2.6.0"
  }
 },
 "nbformat": 4,
 "nbformat_minor": 5
}
